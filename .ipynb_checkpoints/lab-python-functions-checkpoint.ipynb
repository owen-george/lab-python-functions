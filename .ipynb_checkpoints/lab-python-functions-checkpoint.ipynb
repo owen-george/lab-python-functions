{
 "cells": [
  {
   "cell_type": "markdown",
   "id": "25d7736c-ba17-4aff-b6bb-66eba20fbf4e",
   "metadata": {},
   "source": [
    "# Lab | Functions"
   ]
  },
  {
   "cell_type": "markdown",
   "id": "0c581062-8967-4d93-b06e-62833222f930",
   "metadata": {
    "tags": []
   },
   "source": [
    "## Exercise: Managing Customer Orders with Functions\n",
    "\n",
    "In the previous exercise, you improved the code for managing customer orders by using loops and flow control. Now, let's take it a step further and refactor the code by introducing functions.\n",
    "\n",
    "Follow the steps below to complete the exercise:\n",
    "\n",
    "1. Define a function named `initialize_inventory` that takes `products` as a parameter. Inside the function, implement the code for initializing the inventory dictionary using a loop and user input.\n",
    "\n",
    "2. Define a function named `get_customer_orders` that takes no parameters. Inside the function, implement the code for prompting the user to enter the product names using a loop. The function should return the `customer_orders` set.\n",
    "\n",
    "3. Define a function named `update_inventory` that takes `customer_orders` and `inventory` as parameters. Inside the function, implement the code for updating the inventory dictionary based on the customer orders.\n",
    "\n",
    "4. Define a function named `calculate_order_statistics` that takes `customer_orders` and `products` as parameters. Inside the function, implement the code for calculating the order statistics (total products ordered, and percentage of unique products ordered). The function should return these values.\n",
    "\n",
    "5. Define a function named `print_order_statistics` that takes `order_statistics` as a parameter. Inside the function, implement the code for printing the order statistics.\n",
    "\n",
    "6. Define a function named `print_updated_inventory` that takes `inventory` as a parameter. Inside the function, implement the code for printing the updated inventory.\n",
    "\n",
    "7. Call the functions in the appropriate sequence to execute the program and manage customer orders.\n",
    "\n",
    "Hints for functions:\n",
    "\n",
    "- Consider the input parameters required for each function and their return values.\n",
    "- Utilize function parameters and return values to transfer data between functions.\n",
    "- Test your functions individually to ensure they work correctly.\n",
    "\n",
    "\n"
   ]
  },
  {
   "cell_type": "code",
   "execution_count": 43,
   "id": "953e4bee-835f-4e6e-bb35-58cbdf63866c",
   "metadata": {},
   "outputs": [],
   "source": [
    "#1. Define a function named initialize_inventory that takes products as a parameter. \n",
    "#Inside the function, implement the code for initializing the inventory dictionary using a loop and user input.\n",
    "\n",
    "def initialize_inventory(products):\n",
    "    \"\"\"Initializes inventory dictionary using a loop and input\"\"\"\n",
    "    inventory = {}\n",
    "    for prod in products:\n",
    "        quantity = input(\"Enter stock quantity for \" + prod + \":\")\n",
    "        inventory[prod] = int(quantity)\n",
    "    return inventory"
   ]
  },
  {
   "cell_type": "code",
   "execution_count": 47,
   "id": "de6c9a25-3ff3-4307-9959-abd5941d5bbe",
   "metadata": {},
   "outputs": [
    {
     "name": "stdin",
     "output_type": "stream",
     "text": [
      "Enter stock quantity for t-shirt: 10\n",
      "Enter stock quantity for mug: 20\n",
      "Enter stock quantity for hat: 30\n",
      "Enter stock quantity for book: 40\n",
      "Enter stock quantity for keychain: 50\n"
     ]
    },
    {
     "name": "stdout",
     "output_type": "stream",
     "text": [
      "{'t-shirt': 10, 'mug': 20, 'hat': 30, 'book': 40, 'keychain': 50}\n"
     ]
    }
   ],
   "source": [
    "products = [\"t-shirt\", \"mug\", \"hat\", \"book\", \"keychain\"]\n",
    "\n",
    "inventory = initialize_inventory(products)\n",
    "\n",
    "print(inventory)"
   ]
  },
  {
   "cell_type": "code",
   "execution_count": 99,
   "id": "68ea9f71-c801-48f4-96b2-2a63b632de42",
   "metadata": {},
   "outputs": [],
   "source": [
    "#2. Define a function named get_customer_orders that takes no parameters. \n",
    "#Inside the function, implement the code for prompting the user to enter the product names using a loop. \n",
    "# The function should return the customer_orders set.\n",
    "\n",
    "def get_customer_orders():\n",
    "    \n",
    "    customer_orders = list()\n",
    "    again = \"y\"\n",
    "    products = list(inventory.keys())\n",
    "    \n",
    "    while again == \"y\":\n",
    "        product = input(\"What product do you want to order from this list:\" + str(products)).lower().strip()\n",
    "        if product in inventory:\n",
    "            customer_orders.append(product)\n",
    "        else:\n",
    "            while product not in inventory:\n",
    "                product = input(\"Please only select a product from this list:\" + str(products)).lower().strip()\n",
    "        again = input(\"Would you like to place another order? (y/n):\").lower()\n",
    "        while again != \"y\" and again != \"n\":\n",
    "            again = input(\"Please only input 'y' or 'n'. Would you like to place another order?\").lower().strip()\n",
    "    \n",
    "    print(\"Thanks for ordering\")\n",
    "    \n",
    "    return customer_orders"
   ]
  },
  {
   "cell_type": "code",
   "execution_count": 59,
   "id": "bf349cb8-3716-4519-98e7-d06208a58ac7",
   "metadata": {},
   "outputs": [
    {
     "name": "stdin",
     "output_type": "stream",
     "text": [
      "What product do you want to order from this list:['t-shirt', 'mug', 'hat', 'book', 'keychain'] mug\n",
      "Would you like to place another order? (y/n): yy\n",
      "Please only input 'y' or 'n'. Would you like to place another order? wr\n",
      "Please only input 'y' or 'n'. Would you like to place another order? y\n",
      "What product do you want to order from this list:['t-shirt', 'mug', 'hat', 'book', 'keychain'] book\n",
      "Would you like to place another order? (y/n): y\n",
      "What product do you want to order from this list:['t-shirt', 'mug', 'hat', 'book', 'keychain'] keychain\n",
      "Would you like to place another order? (y/n): n\n"
     ]
    },
    {
     "name": "stdout",
     "output_type": "stream",
     "text": [
      "Thanks for ordering\n"
     ]
    }
   ],
   "source": [
    "customer_orders = get_customer_orders()"
   ]
  },
  {
   "cell_type": "code",
   "execution_count": 67,
   "id": "a2a0eb0b-3ccf-4842-973a-b2803c2d36ca",
   "metadata": {},
   "outputs": [
    {
     "name": "stdout",
     "output_type": "stream",
     "text": [
      "{'mug', 'keychain', 'book'}\n"
     ]
    }
   ],
   "source": [
    "print(customer_orders)"
   ]
  },
  {
   "cell_type": "code",
   "execution_count": 63,
   "id": "5ae51bf6-322e-41e9-9e60-e59bc13adfcf",
   "metadata": {},
   "outputs": [],
   "source": [
    "#3. Define a function named update_inventory that takes customer_orders and inventory as parameters. \n",
    "#Inside the function, implement the code for updating the inventory dictionary based on the customer orders.\n",
    "\n",
    "def update_inventory(customer_orders, inventory):\n",
    "    for order in customer_orders:\n",
    "        if order in inventory:\n",
    "            inventory[order] -= 1\n",
    "    \n",
    "    for key, value in inventory.items():\n",
    "        print(str(key) + \": \" + str(value))\n",
    "\n",
    "    return inventory"
   ]
  },
  {
   "cell_type": "code",
   "execution_count": 65,
   "id": "4cbdc549-e19b-411c-b912-5b8053729de5",
   "metadata": {},
   "outputs": [
    {
     "name": "stdout",
     "output_type": "stream",
     "text": [
      "t-shirt: 10\n",
      "mug: 19\n",
      "hat: 30\n",
      "book: 39\n",
      "keychain: 49\n",
      "{'t-shirt': 10, 'mug': 19, 'hat': 30, 'book': 39, 'keychain': 49}\n"
     ]
    }
   ],
   "source": [
    "inventory = update_inventory(customer_orders, inventory)\n",
    "\n",
    "print(inventory)"
   ]
  },
  {
   "cell_type": "code",
   "execution_count": 103,
   "id": "509b5cf8-679c-4452-98e5-72d40e68d1ae",
   "metadata": {},
   "outputs": [],
   "source": [
    "#4. Define a function named calculate_order_statistics that takes customer_orders and products as parameters.\n",
    "#Inside the function, implement the code for calculating the order statistics (total products ordered, and percentage of unique products ordered).\n",
    "#The function should return these values.\n",
    "\n",
    "def calculate_order_statistics(customer_orders, products):\n",
    "    \n",
    "    customer_orders_set = set()\n",
    "    \n",
    "    for i in customer_orders:\n",
    "        customer_orders_set.add(i)\n",
    "        \n",
    "    num_ordered = len(customer_orders_set)\n",
    "    pct_ordered = 100 * len(customer_orders_set) / len(products) \n",
    "    order_statistics = num_ordered, pct_ordered\n",
    "    return order_statistics"
   ]
  },
  {
   "cell_type": "code",
   "execution_count": 121,
   "id": "022c77f8-7ecd-4c74-8a95-0205014d69f0",
   "metadata": {},
   "outputs": [],
   "source": [
    "order_statistics = calculate_order_statistics(customer_orders, products)\n",
    "num_ordered, pct_ordered = order_statistics"
   ]
  },
  {
   "cell_type": "code",
   "execution_count": 127,
   "id": "bb3e8f17-37d7-4ed6-a5a8-12eeb4658aaf",
   "metadata": {},
   "outputs": [],
   "source": [
    "#5. Define a function named print_order_statistics that takes order_statistics as a parameter.\n",
    "#Inside the function, implement the code for printing the order statistics.\n",
    "\n",
    "def print_order_statistics(order_statistics):\n",
    "    print(\"Total unique products ordered: \" + str(num_ordered))\n",
    "    print(\"Percentage of product range ordered: \" + str(pct_ordered) + \"%\")"
   ]
  },
  {
   "cell_type": "code",
   "execution_count": 129,
   "id": "dc4f1609-6ddc-43fb-befc-aefe92ed55d9",
   "metadata": {},
   "outputs": [
    {
     "name": "stdout",
     "output_type": "stream",
     "text": [
      "Total unique products ordered: 3\n",
      "Percentage of product range ordered: 60.0%\n"
     ]
    }
   ],
   "source": [
    "print_order_statistics(order_statistics)"
   ]
  },
  {
   "cell_type": "code",
   "execution_count": 131,
   "id": "a547a4e0-e449-4f7e-8f94-0b7be68a8cb3",
   "metadata": {},
   "outputs": [],
   "source": [
    "#6. Define a function named print_updated_inventory that takes inventory as a parameter.\n",
    "#Inside the function, implement the code for printing the updated inventory.\n",
    "\n",
    "def print_updated_inventory(inventory):\n",
    "    print(inventory)"
   ]
  },
  {
   "cell_type": "code",
   "execution_count": 133,
   "id": "5972fc3b-5550-4c45-84b7-35eabb334300",
   "metadata": {},
   "outputs": [
    {
     "name": "stdout",
     "output_type": "stream",
     "text": [
      "{'t-shirt': 10, 'mug': 18, 'hat': 29, 'book': 39, 'keychain': 50}\n"
     ]
    }
   ],
   "source": [
    "print_updated_inventory(inventory)"
   ]
  },
  {
   "cell_type": "code",
   "execution_count": 135,
   "id": "1587c1eb-9c95-4bd3-bf20-72dee78d689f",
   "metadata": {},
   "outputs": [
    {
     "name": "stdin",
     "output_type": "stream",
     "text": [
      "Enter stock quantity for t-shirt: 10\n",
      "Enter stock quantity for mug: 20\n",
      "Enter stock quantity for hat: 30\n",
      "Enter stock quantity for book: 40\n",
      "Enter stock quantity for keychain: 5\n",
      "What product do you want to order from this list:['t-shirt', 'mug', 'hat', 'book', 'keychain'] mug\n",
      "Would you like to place another order? (y/n): y\n",
      "What product do you want to order from this list:['t-shirt', 'mug', 'hat', 'book', 'keychain'] mug\n",
      "Would you like to place another order? (y/n): y\n",
      "What product do you want to order from this list:['t-shirt', 'mug', 'hat', 'book', 'keychain'] hat\n",
      "Would you like to place another order? (y/n): y\n",
      "What product do you want to order from this list:['t-shirt', 'mug', 'hat', 'book', 'keychain'] book\n",
      "Would you like to place another order? (y/n): n\n"
     ]
    },
    {
     "name": "stdout",
     "output_type": "stream",
     "text": [
      "Thanks for ordering\n",
      "t-shirt: 10\n",
      "mug: 18\n",
      "hat: 29\n",
      "book: 39\n",
      "keychain: 5\n",
      "Total unique products ordered: 3\n",
      "Percentage of product range ordered: 60.0%\n",
      "{'t-shirt': 10, 'mug': 18, 'hat': 29, 'book': 39, 'keychain': 5}\n"
     ]
    }
   ],
   "source": [
    "#Call the functions in the appropriate sequence to execute the program and manage customer orders.\n",
    "\n",
    "products = [\"t-shirt\", \"mug\", \"hat\", \"book\", \"keychain\"]\n",
    "inventory = initialize_inventory(products)\n",
    "customer_orders = get_customer_orders()\n",
    "inventory = update_inventory(customer_orders, inventory)\n",
    "order_statistics = calculate_order_statistics(customer_orders, products)\n",
    "num_ordered, pct_ordered = order_statistics\n",
    "print_order_statistics(order_statistics)\n",
    "print_updated_inventory(inventory)"
   ]
  },
  {
   "cell_type": "code",
   "execution_count": null,
   "id": "0f85fba6-0d28-4309-81d5-ab1eb204501d",
   "metadata": {},
   "outputs": [],
   "source": []
  }
 ],
 "metadata": {
  "kernelspec": {
   "display_name": "Python 3 (ipykernel)",
   "language": "python",
   "name": "python3"
  },
  "language_info": {
   "codemirror_mode": {
    "name": "ipython",
    "version": 3
   },
   "file_extension": ".py",
   "mimetype": "text/x-python",
   "name": "python",
   "nbconvert_exporter": "python",
   "pygments_lexer": "ipython3",
   "version": "3.12.4"
  }
 },
 "nbformat": 4,
 "nbformat_minor": 5
}
